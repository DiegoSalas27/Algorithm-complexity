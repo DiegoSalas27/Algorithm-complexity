{
 "cells": [
  {
   "cell_type": "code",
   "execution_count": 3,
   "metadata": {},
   "outputs": [
    {
     "name": "stdout",
     "output_type": "stream",
     "text": [
      "1  de  2  a  3\n"
     ]
    },
    {
     "data": {
      "text/plain": [
       "'\\n1.- El teorema maestro se aplica a algoritmos recursvivos\\nen el que el numero de repeticiones \\nes finito, igual o mayor a 1. \\nSí es posible calcular el tiempo asintótico de la función,\\npuesto que hace un número de\\nllamadas recursivas finitas.\\n\\n2.- T(n) = 2nT(n/2) + f(n)\\n'"
      ]
     },
     "execution_count": 3,
     "metadata": {},
     "output_type": "execute_result"
    }
   ],
   "source": [
    "# Problema 1\n",
    "\n",
    "def notafunc(n, x, y, z):\n",
    "    if n > 0:\n",
    "        notafunc(n - 1, x, z, y)\n",
    "        print(n, \" de \", x, \" a \", y)\n",
    "        notafunc(n - 1, z, y, x)\n",
    "notafunc(1, 2,3,4)\n",
    "\n",
    "\"\"\"\n",
    "1.- El teorema maestro se aplica a algoritmos recursvivos\n",
    "en el que el numero de repeticiones \n",
    "es finito, igual o mayor a 1. \n",
    "Sí es posible calcular el tiempo asintótico de la función,\n",
    "puesto que hace un número de\n",
    "llamadas recursivas finitas.\n",
    "\n",
    "2.- T(n) = 2nT(n/2) + f(n)\n",
    "\"\"\""
   ]
  },
  {
   "cell_type": "code",
   "execution_count": 69,
   "metadata": {},
   "outputs": [
    {
     "name": "stdout",
     "output_type": "stream",
     "text": [
      "{3: 0, 2: 1, 1: 2}\n",
      "0\n",
      "1\n",
      "[2, 1, 3]\n",
      "2\n"
     ]
    }
   ],
   "source": [
    "# Problema 4\n",
    "\n",
    "def ordenar(arreglo):\n",
    "    mapa = {}\n",
    "    n = len(arreglo)\n",
    "    cont = 0\n",
    "    for k in range(n):\n",
    "        mapa[arreglo[k]] = k\n",
    "    print(mapa)\n",
    "\n",
    "    for i in range(n - 1):\n",
    "        for j in range(1 + i,  n):\n",
    "            if arreglo[i] > arreglo[j]:\n",
    "                if  i + 1  == j:\n",
    "                    print(mapa[arreglo[i]], end = ' ')\n",
    "                    aux = arreglo[i]\n",
    "                    arreglo[i] = arreglo[j]\n",
    "                    arreglo[j] = aux\n",
    "                    # print(arreglo)\n",
    "                    cont += 1\n",
    "\n",
    "    print(arreglo)\n",
    "    print(cont)\n",
    "    \n",
    "ordenar([3,2,1])"
   ]
  },
  {
   "cell_type": "code",
   "execution_count": 5,
   "metadata": {},
   "outputs": [
    {
     "data": {
      "text/plain": [
       "'\\nY puesto que tiene menos condiciones para correr\\nuna operacion recursiva\\n'"
      ]
     },
     "execution_count": 5,
     "metadata": {},
     "output_type": "execute_result"
    }
   ],
   "source": [
    "# Problema 2\n",
    "\n",
    "def f(x, y):\n",
    "    if x == 0:\n",
    "        x*y\n",
    "    elif x > 1 and y%2 == 0:\n",
    "        f(x - 1, y) + f(x - 2, 1)\n",
    "    else:\n",
    "        f(x - 2, y - 1) + f(x - 1, 2)\n",
    "\n",
    "#1.-\n",
    "\"\"\"\n",
    "el algoritmo no tiene una condicion de parada\n",
    "por lo tanto hace recursividad infinita. No es correcto.\n",
    "\"\"\"\n",
    "\n",
    "#2.-\n",
    "\"\"\"\n",
    "La complejidad del algoritmo no tiene medicion,\n",
    "puesto que hay recursividad infinita\n",
    "\"\"\"\n",
    "#3.-\n",
    "\"\"\"\n",
    "Y puesto que pone menos condiciones para correr\n",
    "una operacion recursiva\n",
    "\"\"\"\n"
   ]
  },
  {
   "cell_type": "code",
   "execution_count": 80,
   "metadata": {},
   "outputs": [
    {
     "name": "stdout",
     "output_type": "stream",
     "text": [
      "[1, 2, 3, 4, 5]\n",
      "Imposible\n"
     ]
    }
   ],
   "source": [
    "# Problema 3\n",
    "\n",
    "def operacion(array):\n",
    "    resultado = 0\n",
    "    posible = True\n",
    "    pos = []\n",
    "    \n",
    "    for i in range(5): \n",
    "        pos.append(array[i])\n",
    "    \n",
    "    print(pos)\n",
    "    n = len(pos)\n",
    "    \n",
    "    if resultado ==  23:\n",
    "        return print('Posible')\n",
    "    else:\n",
    "        return print('Imposible')\n",
    "    \n",
    "    for i in range(5):\n",
    "        for j in range(n):  \n",
    "            if i > 0:\n",
    "                resultado = operacion(pos[i]+pos[j],pos[i]*pos[j],\n",
    "                          pos[i]*pos[j],pos[i]-pos[j],\n",
    "                          pos[i]-pos[j])\n",
    "    print(resultado)\n",
    "    print(resultado)\n",
    "\n",
    "operacion([1,2,3,4,5])"
   ]
  },
  {
   "cell_type": "code",
   "execution_count": 75,
   "metadata": {},
   "outputs": [
    {
     "ename": "SyntaxError",
     "evalue": "invalid syntax (<ipython-input-75-36d786e3b8dc>, line 5)",
     "output_type": "error",
     "traceback": [
      "\u001b[1;36m  File \u001b[1;32m\"<ipython-input-75-36d786e3b8dc>\"\u001b[1;36m, line \u001b[1;32m5\u001b[0m\n\u001b[1;33m    if\u001b[0m\n\u001b[1;37m       ^\u001b[0m\n\u001b[1;31mSyntaxError\u001b[0m\u001b[1;31m:\u001b[0m invalid syntax\n"
     ]
    }
   ],
   "source": [
    "arreglo = [1,2,3,3,4,4,4] \n",
    "n = len(arreglo)\n",
    "for k in range(n):\n",
    "    mapa[arreglo[k]] = k\n",
    "    if arreglo[k] == mapa[arreglo[k]]:\n",
    "        print(mapa[arreglo[k]])\n",
    "        print('encontrado')\n",
    "        "
   ]
  },
  {
   "cell_type": "code",
   "execution_count": 7,
   "metadata": {},
   "outputs": [
    {
     "name": "stdout",
     "output_type": "stream",
     "text": [
      "\n"
     ]
    }
   ],
   "source": [
    "# Problema 4\n",
    "\n"
   ]
  }
 ],
 "metadata": {
  "kernelspec": {
   "display_name": "Python 3",
   "language": "python",
   "name": "python3"
  },
  "language_info": {
   "codemirror_mode": {
    "name": "ipython",
    "version": 3
   },
   "file_extension": ".py",
   "mimetype": "text/x-python",
   "name": "python",
   "nbconvert_exporter": "python",
   "pygments_lexer": "ipython3",
   "version": "3.6.4"
  }
 },
 "nbformat": 4,
 "nbformat_minor": 2
}
